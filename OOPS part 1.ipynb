{
 "cells": [
  {
   "cell_type": "code",
   "execution_count": 1,
   "id": "5e418064",
   "metadata": {},
   "outputs": [
    {
     "name": "stdout",
     "output_type": "stream",
     "text": [
      "10\n"
     ]
    },
    {
     "data": {
      "text/plain": [
       "<__main__.car at 0x2d1702fdfd0>"
      ]
     },
     "execution_count": 1,
     "metadata": {},
     "output_type": "execute_result"
    }
   ],
   "source": [
    "# car class \n",
    "class car:\n",
    "    a=10\n",
    "    print(a)\n",
    "    \n",
    "    \n",
    "# object\n",
    "car()"
   ]
  },
  {
   "cell_type": "code",
   "execution_count": 2,
   "id": "306f8dd3",
   "metadata": {},
   "outputs": [
    {
     "name": "stdout",
     "output_type": "stream",
     "text": [
      "10\n"
     ]
    },
    {
     "data": {
      "text/plain": [
       "<__main__.add at 0x2d170307cd0>"
      ]
     },
     "execution_count": 2,
     "metadata": {},
     "output_type": "execute_result"
    }
   ],
   "source": [
    "#wap to add two numbers using oops.\n",
    "#wap to add two numbers using oops and function. \n",
    "\n",
    "\n",
    "\n",
    "class add:\n",
    "    a=9\n",
    "    b=1\n",
    "    c=a+b\n",
    "    print(c)\n",
    "    \n",
    "add()"
   ]
  },
  {
   "cell_type": "code",
   "execution_count": 9,
   "id": "7a2913cd",
   "metadata": {},
   "outputs": [
    {
     "name": "stdout",
     "output_type": "stream",
     "text": [
      "3\n"
     ]
    }
   ],
   "source": [
    "class add:\n",
    "    def two_add(self,x,y):\n",
    "        result = x+y\n",
    "        print(result)\n",
    "    \n",
    "# add().two_add(1,2)\n",
    "a = add()\n",
    "a.two_add(1,2)"
   ]
  },
  {
   "cell_type": "code",
   "execution_count": 10,
   "id": "e165011c",
   "metadata": {},
   "outputs": [
    {
     "name": "stdout",
     "output_type": "stream",
     "text": [
      "10\n"
     ]
    }
   ],
   "source": [
    "a = add()\n",
    "a.two_add(3,7)"
   ]
  },
  {
   "cell_type": "code",
   "execution_count": 11,
   "id": "aa2827d9",
   "metadata": {},
   "outputs": [
    {
     "data": {
      "text/plain": [
       "63.666666666666664"
      ]
     },
     "execution_count": 11,
     "metadata": {},
     "output_type": "execute_result"
    }
   ],
   "source": [
    "#wap to find the avg marks  of a students in 3 subject using oops & function.\n",
    "\n",
    "class student:\n",
    "    def avg(self,x,y,z):\n",
    "        result = (x+y+z)/3\n",
    "        return result\n",
    "    \n",
    "    \n",
    "s = student()\n",
    "s.avg(23,78,90)"
   ]
  },
  {
   "cell_type": "code",
   "execution_count": null,
   "id": "29941876",
   "metadata": {},
   "outputs": [],
   "source": [
    "#wap to calculate the salary of the emp where the emp takes holidays more than\n",
    "# 12 in a year then there is deduction of 12% of salary and if holidays\n",
    "# are less than 6 in numbers then the bonus will be provided to the emp of 10%.\n",
    "# and if  the emp takes normal leave i.e Sunday then he / she will \n",
    "# be given the regular salary."
   ]
  }
 ],
 "metadata": {
  "kernelspec": {
   "display_name": "Python 3 (ipykernel)",
   "language": "python",
   "name": "python3"
  },
  "language_info": {
   "codemirror_mode": {
    "name": "ipython",
    "version": 3
   },
   "file_extension": ".py",
   "mimetype": "text/x-python",
   "name": "python",
   "nbconvert_exporter": "python",
   "pygments_lexer": "ipython3",
   "version": "3.9.7"
  }
 },
 "nbformat": 4,
 "nbformat_minor": 5
}
