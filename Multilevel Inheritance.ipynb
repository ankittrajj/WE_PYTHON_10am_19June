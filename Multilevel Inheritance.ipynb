{
 "cells": [
  {
   "cell_type": "code",
   "execution_count": 1,
   "id": "24f04a5b",
   "metadata": {},
   "outputs": [
    {
     "data": {
      "text/plain": [
       "('a', 67)"
      ]
     },
     "execution_count": 1,
     "metadata": {},
     "output_type": "execute_result"
    }
   ],
   "source": [
    "# wap to inherit from class a to b while your b class is \n",
    "# an empty class.Try to get \n",
    "# the output of your class a.\n",
    "\n",
    "\n",
    "# Wap to create a empty class.\n",
    "class a:\n",
    "    \n",
    "    def info(self,name,age):\n",
    "        return name,age\n",
    "    \n",
    "    \n",
    "class b(a):\n",
    "    pass\n",
    "\n",
    "\n",
    "x = b()\n",
    "x.info(\"a\",67)\n",
    "\n"
   ]
  },
  {
   "cell_type": "code",
   "execution_count": 3,
   "id": "fd8a97ad",
   "metadata": {},
   "outputs": [
    {
     "data": {
      "text/plain": [
       "'John'"
      ]
     },
     "execution_count": 3,
     "metadata": {},
     "output_type": "execute_result"
    }
   ],
   "source": [
    "# gpc to parent\n",
    "class gpc:\n",
    "    def __init__(self,name,age):\n",
    "        self.name = name\n",
    "        self.age = age\n",
    "        \n",
    "    \n",
    "    \n",
    "class pc(gpc):\n",
    "    def __init__(self,name,age,emp_id):\n",
    "        super().__init__(name,age)\n",
    "        self.emp_id = emp_id\n",
    "    \n",
    "class child:\n",
    "    def __init__(self,sal):\n",
    "        self.sal = sal\n",
    "        \n",
    "        \n",
    "p = pc(\"John\",23,\"abc23\")\n",
    "p.name\n",
    "        \n",
    "        "
   ]
  },
  {
   "cell_type": "code",
   "execution_count": 4,
   "id": "5b1a8ba3",
   "metadata": {},
   "outputs": [
    {
     "data": {
      "text/plain": [
       "23"
      ]
     },
     "execution_count": 4,
     "metadata": {},
     "output_type": "execute_result"
    }
   ],
   "source": [
    "p.age"
   ]
  },
  {
   "cell_type": "code",
   "execution_count": 5,
   "id": "02409bfa",
   "metadata": {},
   "outputs": [
    {
     "data": {
      "text/plain": [
       "'abc23'"
      ]
     },
     "execution_count": 5,
     "metadata": {},
     "output_type": "execute_result"
    }
   ],
   "source": [
    "p.emp_id"
   ]
  },
  {
   "cell_type": "code",
   "execution_count": 7,
   "id": "5343824f",
   "metadata": {},
   "outputs": [
    {
     "data": {
      "text/plain": [
       "90"
      ]
     },
     "execution_count": 7,
     "metadata": {},
     "output_type": "execute_result"
    }
   ],
   "source": [
    "# parent to child\n",
    "class gpc:\n",
    "    def __init__(self,name,age):\n",
    "        self.name = name\n",
    "        self.age = age\n",
    "        \n",
    "    \n",
    "    \n",
    "class pc:\n",
    "    def __init__(self,emp_id):\n",
    "        self.emp_id = emp_id\n",
    "    \n",
    "class child(pc):\n",
    "    def __init__(self,emp_id,sal):\n",
    "        super().__init__(emp_id)\n",
    "        self.sal = sal\n",
    "        \n",
    "        \n",
    "p = child(\"abc23\",90)\n",
    "p.sal\n",
    "        "
   ]
  },
  {
   "cell_type": "code",
   "execution_count": 8,
   "id": "c607c2a8",
   "metadata": {},
   "outputs": [
    {
     "data": {
      "text/plain": [
       "'abc23'"
      ]
     },
     "execution_count": 8,
     "metadata": {},
     "output_type": "execute_result"
    }
   ],
   "source": [
    "p.emp_id"
   ]
  },
  {
   "cell_type": "code",
   "execution_count": 9,
   "id": "11b235cf",
   "metadata": {},
   "outputs": [
    {
     "data": {
      "text/plain": [
       "23"
      ]
     },
     "execution_count": 9,
     "metadata": {},
     "output_type": "execute_result"
    }
   ],
   "source": [
    "# gpc to child\n",
    "\n",
    "class gpc:\n",
    "    def __init__(self,name,age):\n",
    "        self.name = name\n",
    "        self.age = age\n",
    "        \n",
    "    \n",
    "    \n",
    "class pc:\n",
    "    def __init__(self,emp_id):\n",
    "        self.emp_id = emp_id\n",
    "    \n",
    "class child(gpc):\n",
    "    def __init__(self,name,age,sal):\n",
    "        super().__init__(name,age)\n",
    "        self.sal = sal\n",
    "        \n",
    "        \n",
    "p = child(\"abc\",90,23)\n",
    "p.sal\n"
   ]
  },
  {
   "cell_type": "code",
   "execution_count": 10,
   "id": "98f2958b",
   "metadata": {},
   "outputs": [
    {
     "data": {
      "text/plain": [
       "'abc'"
      ]
     },
     "execution_count": 10,
     "metadata": {},
     "output_type": "execute_result"
    }
   ],
   "source": [
    "p.name"
   ]
  },
  {
   "cell_type": "code",
   "execution_count": 11,
   "id": "b12db1a7",
   "metadata": {},
   "outputs": [
    {
     "data": {
      "text/plain": [
       "90"
      ]
     },
     "execution_count": 11,
     "metadata": {},
     "output_type": "execute_result"
    }
   ],
   "source": [
    "p.age"
   ]
  },
  {
   "cell_type": "code",
   "execution_count": 12,
   "id": "512a972c",
   "metadata": {},
   "outputs": [
    {
     "data": {
      "text/plain": [
       "78"
      ]
     },
     "execution_count": 12,
     "metadata": {},
     "output_type": "execute_result"
    }
   ],
   "source": [
    "# gpc to pc to child\n",
    "\n",
    "class gpc:\n",
    "    def __init__(self,name,age):\n",
    "        self.name = name\n",
    "        self.age = age\n",
    "        \n",
    "class pc(gpc):\n",
    "    def __init__(self,name,age,emp_id):\n",
    "        super().__init__(name,age)\n",
    "        self.emp_id = emp_id\n",
    "        \n",
    "    \n",
    "class child(pc):\n",
    "    def __init__(self,name,age,emp_id,sal):\n",
    "        super().__init__(name,age,emp_id)\n",
    "        self.sal = sal\n",
    "        \n",
    "        \n",
    "p = child(\"Abc\",34,\"12abc\",78)\n",
    "p.sal"
   ]
  },
  {
   "cell_type": "code",
   "execution_count": 13,
   "id": "9d0f6a60",
   "metadata": {},
   "outputs": [
    {
     "data": {
      "text/plain": [
       "'Abc'"
      ]
     },
     "execution_count": 13,
     "metadata": {},
     "output_type": "execute_result"
    }
   ],
   "source": [
    "p.name"
   ]
  },
  {
   "cell_type": "code",
   "execution_count": 14,
   "id": "6829040f",
   "metadata": {},
   "outputs": [
    {
     "data": {
      "text/plain": [
       "34"
      ]
     },
     "execution_count": 14,
     "metadata": {},
     "output_type": "execute_result"
    }
   ],
   "source": [
    "p.age"
   ]
  },
  {
   "cell_type": "markdown",
   "id": "a9977711",
   "metadata": {},
   "source": [
    "# Polymorphism\n",
    "\n",
    "#### Operator overloading"
   ]
  },
  {
   "cell_type": "code",
   "execution_count": 15,
   "id": "dde7291f",
   "metadata": {},
   "outputs": [
    {
     "name": "stdout",
     "output_type": "stream",
     "text": [
      "17\n"
     ]
    }
   ],
   "source": [
    "a = 9 \n",
    "b = 8\n",
    "c = a+b\n",
    "print(c)"
   ]
  },
  {
   "cell_type": "code",
   "execution_count": 16,
   "id": "b0fe0225",
   "metadata": {},
   "outputs": [
    {
     "name": "stdout",
     "output_type": "stream",
     "text": [
      "98\n"
     ]
    }
   ],
   "source": [
    "a = '9'\n",
    "b = '8'\n",
    "c = a+b\n",
    "print(c)"
   ]
  },
  {
   "cell_type": "code",
   "execution_count": 17,
   "id": "d7e2a396",
   "metadata": {},
   "outputs": [
    {
     "name": "stdout",
     "output_type": "stream",
     "text": [
      "17\n",
      "98\n"
     ]
    }
   ],
   "source": [
    "class me:\n",
    "    a = 9 \n",
    "    b = 8\n",
    "    c = a+b\n",
    "    print(c)\n",
    "\n",
    "    a = '9'\n",
    "    b = '8'\n",
    "    c = a+b\n",
    "    print(c)\n",
    "    \n",
    "m = me()"
   ]
  },
  {
   "cell_type": "code",
   "execution_count": 18,
   "id": "d7651565",
   "metadata": {},
   "outputs": [
    {
     "data": {
      "text/plain": [
       "3"
      ]
     },
     "execution_count": 18,
     "metadata": {},
     "output_type": "execute_result"
    }
   ],
   "source": [
    "# function overloading\n",
    "\n",
    "def fun(a=1,b=9):\n",
    "    c = a+b\n",
    "    return c\n",
    "\n",
    "fun(1,2)"
   ]
  },
  {
   "cell_type": "code",
   "execution_count": 19,
   "id": "9092b03e",
   "metadata": {},
   "outputs": [
    {
     "data": {
      "text/plain": [
       "10"
      ]
     },
     "execution_count": 19,
     "metadata": {},
     "output_type": "execute_result"
    }
   ],
   "source": [
    "fun()"
   ]
  },
  {
   "cell_type": "code",
   "execution_count": 20,
   "id": "e23f929e",
   "metadata": {},
   "outputs": [
    {
     "data": {
      "text/plain": [
       "11"
      ]
     },
     "execution_count": 20,
     "metadata": {},
     "output_type": "execute_result"
    }
   ],
   "source": [
    "fun(2)"
   ]
  },
  {
   "cell_type": "code",
   "execution_count": 22,
   "id": "abfc7f95",
   "metadata": {},
   "outputs": [
    {
     "data": {
      "text/plain": [
       "10"
      ]
     },
     "execution_count": 22,
     "metadata": {},
     "output_type": "execute_result"
    }
   ],
   "source": [
    "class add:\n",
    "    def fun(self,a=1,b=9):\n",
    "        c = a+b\n",
    "        return c\n",
    "\n",
    "a = add()\n",
    "a.fun()\n",
    "\n",
    "    "
   ]
  },
  {
   "cell_type": "code",
   "execution_count": 23,
   "id": "347877be",
   "metadata": {},
   "outputs": [
    {
     "data": {
      "text/plain": [
       "15"
      ]
     },
     "execution_count": 23,
     "metadata": {},
     "output_type": "execute_result"
    }
   ],
   "source": [
    "a.fun(6)"
   ]
  },
  {
   "cell_type": "code",
   "execution_count": 24,
   "id": "cb4bbd6e",
   "metadata": {},
   "outputs": [
    {
     "data": {
      "text/plain": [
       "9"
      ]
     },
     "execution_count": 24,
     "metadata": {},
     "output_type": "execute_result"
    }
   ],
   "source": [
    "a.fun(2,7)"
   ]
  },
  {
   "cell_type": "code",
   "execution_count": null,
   "id": "754d3570",
   "metadata": {},
   "outputs": [],
   "source": []
  }
 ],
 "metadata": {
  "kernelspec": {
   "display_name": "Python 3 (ipykernel)",
   "language": "python",
   "name": "python3"
  },
  "language_info": {
   "codemirror_mode": {
    "name": "ipython",
    "version": 3
   },
   "file_extension": ".py",
   "mimetype": "text/x-python",
   "name": "python",
   "nbconvert_exporter": "python",
   "pygments_lexer": "ipython3",
   "version": "3.9.7"
  }
 },
 "nbformat": 4,
 "nbformat_minor": 5
}
