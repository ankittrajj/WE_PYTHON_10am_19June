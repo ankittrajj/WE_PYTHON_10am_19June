{
 "cells": [
  {
   "cell_type": "markdown",
   "id": "6def12e2",
   "metadata": {},
   "source": [
    "# Filter Function"
   ]
  },
  {
   "cell_type": "code",
   "execution_count": 12,
   "id": "f31112cf",
   "metadata": {},
   "outputs": [
    {
     "name": "stdout",
     "output_type": "stream",
     "text": [
      "78\n",
      "90\n",
      "98\n",
      "76\n"
     ]
    }
   ],
   "source": [
    "a = [34,78,90,56,32,98,76]\n",
    "for i in a:\n",
    "    if i > 60:\n",
    "        print(i)\n",
    "#     b = list(i)\n",
    "#     print(b)\n"
   ]
  },
  {
   "cell_type": "code",
   "execution_count": 10,
   "id": "afe30097",
   "metadata": {},
   "outputs": [
    {
     "name": "stdout",
     "output_type": "stream",
     "text": [
      "78\n",
      "90\n",
      "98\n",
      "76\n"
     ]
    }
   ],
   "source": [
    "a = [34,78,90,56,32,98,76]\n",
    "def fun(a):\n",
    "    for i in a:\n",
    "        if i>60:\n",
    "            print(i)\n",
    "            \n",
    "fun(a)\n",
    "\n"
   ]
  },
  {
   "cell_type": "code",
   "execution_count": 28,
   "id": "1eeb24e3",
   "metadata": {},
   "outputs": [],
   "source": [
    "# filter function\n",
    "a = (34,78,90,56,32,98,76,34,90,90)\n",
    "def fun(a):\n",
    "        if a>60:\n",
    "            return True\n",
    "        else:\n",
    "            return False"
   ]
  },
  {
   "cell_type": "code",
   "execution_count": 29,
   "id": "8e9fc0c2",
   "metadata": {},
   "outputs": [
    {
     "data": {
      "text/plain": [
       "[78, 90, 98, 76, 90, 90]"
      ]
     },
     "execution_count": 29,
     "metadata": {},
     "output_type": "execute_result"
    }
   ],
   "source": [
    "list(filter(fun,a))"
   ]
  },
  {
   "cell_type": "code",
   "execution_count": 31,
   "id": "41feb09c",
   "metadata": {},
   "outputs": [
    {
     "data": {
      "text/plain": [
       "[78, 90, 98, 76, 90, 90]"
      ]
     },
     "execution_count": 31,
     "metadata": {},
     "output_type": "execute_result"
    }
   ],
   "source": [
    "a = (34,78,90,56,32,98,76,34,90,90)\n",
    "\n",
    "list(filter(lambda a: True if a>60 else False,a))"
   ]
  },
  {
   "cell_type": "code",
   "execution_count": 32,
   "id": "c411a85d",
   "metadata": {},
   "outputs": [],
   "source": [
    "x = lambda a: True if a>60 else False"
   ]
  },
  {
   "cell_type": "code",
   "execution_count": 34,
   "id": "79ac676a",
   "metadata": {},
   "outputs": [],
   "source": [
    "c = list(filter(x,a))"
   ]
  },
  {
   "cell_type": "code",
   "execution_count": 35,
   "id": "bfaad07a",
   "metadata": {},
   "outputs": [
    {
     "data": {
      "text/plain": [
       "[78, 90, 98, 76, 90, 90]"
      ]
     },
     "execution_count": 35,
     "metadata": {},
     "output_type": "execute_result"
    }
   ],
   "source": [
    "c"
   ]
  },
  {
   "cell_type": "markdown",
   "id": "c49fd2d9",
   "metadata": {},
   "source": [
    "# Map Function"
   ]
  },
  {
   "cell_type": "code",
   "execution_count": 37,
   "id": "02391be3",
   "metadata": {},
   "outputs": [
    {
     "data": {
      "text/plain": [
       "[6084, 8100, 9604, 5776, 8100, 8100]"
      ]
     },
     "execution_count": 37,
     "metadata": {},
     "output_type": "execute_result"
    }
   ],
   "source": [
    "list(map(lambda c:c**2,c))"
   ]
  },
  {
   "cell_type": "code",
   "execution_count": 40,
   "id": "dad6bd95",
   "metadata": {},
   "outputs": [
    {
     "data": {
      "text/plain": [
       "[6084, 8100, 9604, 5776, 8100, 8100]"
      ]
     },
     "execution_count": 40,
     "metadata": {},
     "output_type": "execute_result"
    }
   ],
   "source": [
    "def function(c):\n",
    "    x = c**2\n",
    "    return x\n",
    "\n",
    "\n",
    "list(map(function,c))\n",
    "    "
   ]
  },
  {
   "cell_type": "code",
   "execution_count": 42,
   "id": "d7f429b6",
   "metadata": {},
   "outputs": [
    {
     "name": "stdout",
     "output_type": "stream",
     "text": [
      "1\n",
      "3\n",
      "6\n",
      "10\n"
     ]
    }
   ],
   "source": [
    "x = [1,2,3,4]\n",
    "y = 0\n",
    "for i in x:\n",
    "    y = i+y\n",
    "    print(y)"
   ]
  },
  {
   "cell_type": "code",
   "execution_count": 43,
   "id": "11f1e200",
   "metadata": {},
   "outputs": [],
   "source": [
    "from functools import reduce"
   ]
  },
  {
   "cell_type": "code",
   "execution_count": 44,
   "id": "905fa87c",
   "metadata": {},
   "outputs": [
    {
     "data": {
      "text/plain": [
       "10"
      ]
     },
     "execution_count": 44,
     "metadata": {},
     "output_type": "execute_result"
    }
   ],
   "source": [
    "x = [1,2,3,4]\n",
    "reduce(lambda x,y:x+y,x)"
   ]
  },
  {
   "cell_type": "code",
   "execution_count": null,
   "id": "dc96a2c8",
   "metadata": {},
   "outputs": [],
   "source": []
  }
 ],
 "metadata": {
  "kernelspec": {
   "display_name": "Python 3 (ipykernel)",
   "language": "python",
   "name": "python3"
  },
  "language_info": {
   "codemirror_mode": {
    "name": "ipython",
    "version": 3
   },
   "file_extension": ".py",
   "mimetype": "text/x-python",
   "name": "python",
   "nbconvert_exporter": "python",
   "pygments_lexer": "ipython3",
   "version": "3.9.7"
  }
 },
 "nbformat": 4,
 "nbformat_minor": 5
}
