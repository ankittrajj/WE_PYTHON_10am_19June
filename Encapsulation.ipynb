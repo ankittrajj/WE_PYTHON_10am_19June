{
 "cells": [
  {
   "cell_type": "code",
   "execution_count": 8,
   "id": "b42d52ea",
   "metadata": {},
   "outputs": [
    {
     "ename": "AttributeError",
     "evalue": "'code' object has no attribute '__fun'",
     "output_type": "error",
     "traceback": [
      "\u001b[1;31m---------------------------------------------------------------------------\u001b[0m",
      "\u001b[1;31mAttributeError\u001b[0m                            Traceback (most recent call last)",
      "\u001b[1;32m~\\AppData\\Local\\Temp/ipykernel_6576/221476406.py\u001b[0m in \u001b[0;36m<module>\u001b[1;34m\u001b[0m\n\u001b[0;32m     12\u001b[0m \u001b[0mc\u001b[0m \u001b[1;33m=\u001b[0m \u001b[0mcode\u001b[0m\u001b[1;33m(\u001b[0m\u001b[1;33m)\u001b[0m\u001b[1;33m\u001b[0m\u001b[1;33m\u001b[0m\u001b[0m\n\u001b[0;32m     13\u001b[0m \u001b[0mc\u001b[0m\u001b[1;33m.\u001b[0m\u001b[0mfun1\u001b[0m\u001b[1;33m(\u001b[0m\u001b[1;36m90\u001b[0m\u001b[1;33m)\u001b[0m\u001b[1;33m\u001b[0m\u001b[1;33m\u001b[0m\u001b[0m\n\u001b[1;32m---> 14\u001b[1;33m \u001b[0mc\u001b[0m\u001b[1;33m.\u001b[0m\u001b[0m__fun\u001b[0m\u001b[1;33m(\u001b[0m\u001b[1;36m23\u001b[0m\u001b[1;33m)\u001b[0m\u001b[1;33m\u001b[0m\u001b[1;33m\u001b[0m\u001b[0m\n\u001b[0m",
      "\u001b[1;31mAttributeError\u001b[0m: 'code' object has no attribute '__fun'"
     ]
    }
   ],
   "source": [
    "# public, private, protected\n",
    "\n",
    "# private code \n",
    "\n",
    "class code:\n",
    "    def __fun(self,a):\n",
    "        return a\n",
    "    \n",
    "    def fun1(self,b):\n",
    "        return b\n",
    "\n",
    "c = code()\n",
    "c.fun1(90)\n",
    "c.__fun(23)"
   ]
  },
  {
   "cell_type": "code",
   "execution_count": 5,
   "id": "4d29414c",
   "metadata": {},
   "outputs": [
    {
     "data": {
      "text/plain": [
       "78"
      ]
     },
     "execution_count": 5,
     "metadata": {},
     "output_type": "execute_result"
    }
   ],
   "source": [
    "c.fun1(78)"
   ]
  },
  {
   "cell_type": "code",
   "execution_count": 14,
   "id": "cde64a2a",
   "metadata": {},
   "outputs": [
    {
     "data": {
      "text/plain": [
       "90"
      ]
     },
     "execution_count": 14,
     "metadata": {},
     "output_type": "execute_result"
    }
   ],
   "source": [
    "# protected \n",
    "class code:\n",
    "    def fun(self,a):\n",
    "        return a\n",
    "    \n",
    "    def _fun1(self,b):\n",
    "        return b\n",
    "\n",
    "c = code()\n",
    "c._fun1(90)\n",
    "# c.fun(23)"
   ]
  },
  {
   "cell_type": "code",
   "execution_count": null,
   "id": "c5b7c62e",
   "metadata": {},
   "outputs": [],
   "source": [
    "#wap to print fizz buzz if your number is divisible by 3 print fizz \n",
    "# if divisible by 5 print buzz and if divisible by both 3 & 5 print fizz buzz \n",
    "# other than this print the number itself. ypur number will start from 1\n",
    "# and end on 50."
   ]
  }
 ],
 "metadata": {
  "kernelspec": {
   "display_name": "Python 3 (ipykernel)",
   "language": "python",
   "name": "python3"
  },
  "language_info": {
   "codemirror_mode": {
    "name": "ipython",
    "version": 3
   },
   "file_extension": ".py",
   "mimetype": "text/x-python",
   "name": "python",
   "nbconvert_exporter": "python",
   "pygments_lexer": "ipython3",
   "version": "3.9.7"
  }
 },
 "nbformat": 4,
 "nbformat_minor": 5
}
