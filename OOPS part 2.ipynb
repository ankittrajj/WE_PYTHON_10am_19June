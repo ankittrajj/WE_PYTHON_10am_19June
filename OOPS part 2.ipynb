{
 "cells": [
  {
   "cell_type": "code",
   "execution_count": 1,
   "id": "83b203d8",
   "metadata": {},
   "outputs": [
    {
     "data": {
      "text/plain": [
       "'asd'"
      ]
     },
     "execution_count": 1,
     "metadata": {},
     "output_type": "execute_result"
    }
   ],
   "source": [
    "#constructor!!\n",
    "\n",
    "\n",
    "class emp:\n",
    "    def __init__(self,name,age):\n",
    "        self.name = name\n",
    "        self.age = age\n",
    "        \n",
    "        \n",
    "e = emp(\"asd\",45)\n",
    "e.name"
   ]
  },
  {
   "cell_type": "code",
   "execution_count": 2,
   "id": "8350c73a",
   "metadata": {},
   "outputs": [
    {
     "data": {
      "text/plain": [
       "45"
      ]
     },
     "execution_count": 2,
     "metadata": {},
     "output_type": "execute_result"
    }
   ],
   "source": [
    "e.age"
   ]
  },
  {
   "cell_type": "code",
   "execution_count": 8,
   "id": "1bfa3e1c",
   "metadata": {},
   "outputs": [
    {
     "name": "stdout",
     "output_type": "stream",
     "text": [
      "7\n"
     ]
    }
   ],
   "source": [
    "#wap to find the add of two number using function & constructor!!\n",
    "\n",
    "class num:\n",
    "    def __init__(self,a,b):\n",
    "        self.a = a\n",
    "        self.b = b\n",
    "        \n",
    "        \n",
    "    def add(self):\n",
    "        result= self.a+self.b\n",
    "        print( result)\n",
    "    \n",
    "n = num(3,4)\n",
    "n.add()"
   ]
  },
  {
   "cell_type": "markdown",
   "id": "818ded4c",
   "metadata": {},
   "source": [
    "# Inheritance"
   ]
  },
  {
   "cell_type": "code",
   "execution_count": 11,
   "id": "ce4924af",
   "metadata": {},
   "outputs": [
    {
     "data": {
      "text/plain": [
       "100"
      ]
     },
     "execution_count": 11,
     "metadata": {},
     "output_type": "execute_result"
    }
   ],
   "source": [
    "class parent:\n",
    "    def fun(self,a,b,c):\n",
    "        return a,b,c\n",
    "    \n",
    "    \n",
    "class child(parent):\n",
    "    def info(self,x):\n",
    "        return x\n",
    "        \n",
    "        \n",
    "c = child()\n",
    "c.fun(10,6,8)\n",
    "c.info(100)"
   ]
  },
  {
   "cell_type": "code",
   "execution_count": 12,
   "id": "f1c8724c",
   "metadata": {},
   "outputs": [],
   "source": [
    "class parent:\n",
    "    def __init__(self,name,age):\n",
    "        self.name = name\n",
    "        self.age = age\n",
    "        \n",
    "        \n",
    "class child(parent):\n",
    "    def __init__(self,name,age,sal):\n",
    "        parent.__init__(self,name,age)\n",
    "        self.sal = sal\n",
    "        \n",
    "        \n",
    "c = child('asd',23,2)\n"
   ]
  },
  {
   "cell_type": "code",
   "execution_count": 13,
   "id": "070772ff",
   "metadata": {},
   "outputs": [
    {
     "data": {
      "text/plain": [
       "2"
      ]
     },
     "execution_count": 13,
     "metadata": {},
     "output_type": "execute_result"
    }
   ],
   "source": [
    "c.sal"
   ]
  },
  {
   "cell_type": "code",
   "execution_count": 14,
   "id": "442d71f0",
   "metadata": {},
   "outputs": [
    {
     "data": {
      "text/plain": [
       "'asd'"
      ]
     },
     "execution_count": 14,
     "metadata": {},
     "output_type": "execute_result"
    }
   ],
   "source": [
    "c.name"
   ]
  },
  {
   "cell_type": "code",
   "execution_count": 15,
   "id": "7029a182",
   "metadata": {},
   "outputs": [],
   "source": [
    "# super method\n",
    "class parent:\n",
    "    def __init__(self,name,age):\n",
    "        self.name = name\n",
    "        self.age = age\n",
    "        \n",
    "        \n",
    "class child(parent):\n",
    "    def __init__(self,name,age,sal):\n",
    "        super().__init__(name,age)\n",
    "        self.sal = sal\n",
    "        \n",
    "        \n",
    "c = child('asd',23,2)"
   ]
  },
  {
   "cell_type": "code",
   "execution_count": 16,
   "id": "b63c8444",
   "metadata": {},
   "outputs": [
    {
     "data": {
      "text/plain": [
       "'asd'"
      ]
     },
     "execution_count": 16,
     "metadata": {},
     "output_type": "execute_result"
    }
   ],
   "source": [
    "c.name"
   ]
  },
  {
   "cell_type": "code",
   "execution_count": 17,
   "id": "5e5cb96c",
   "metadata": {},
   "outputs": [
    {
     "data": {
      "text/plain": [
       "23"
      ]
     },
     "execution_count": 17,
     "metadata": {},
     "output_type": "execute_result"
    }
   ],
   "source": [
    "c.age"
   ]
  },
  {
   "cell_type": "code",
   "execution_count": 20,
   "id": "e95c5db6",
   "metadata": {},
   "outputs": [],
   "source": [
    "# name,class,addr.---> 100\n",
    "\n",
    "c1 = child('def',34,90)"
   ]
  },
  {
   "cell_type": "code",
   "execution_count": 21,
   "id": "9198d981",
   "metadata": {},
   "outputs": [],
   "source": [
    "#wap to find the avg speed of a car while the distance and time will be\n",
    "# defined in automobile class and we have to inherit the attribute to car class\n",
    "# to find the speed .\n",
    "# make a function to find the speed of the car."
   ]
  },
  {
   "cell_type": "code",
   "execution_count": null,
   "id": "743f560c",
   "metadata": {},
   "outputs": [],
   "source": [
    "#wap to inherit from class a to b while your b class is \n",
    "# an empty class.Try to get \n",
    "# the output of your class a."
   ]
  }
 ],
 "metadata": {
  "kernelspec": {
   "display_name": "Python 3 (ipykernel)",
   "language": "python",
   "name": "python3"
  },
  "language_info": {
   "codemirror_mode": {
    "name": "ipython",
    "version": 3
   },
   "file_extension": ".py",
   "mimetype": "text/x-python",
   "name": "python",
   "nbconvert_exporter": "python",
   "pygments_lexer": "ipython3",
   "version": "3.9.7"
  }
 },
 "nbformat": 4,
 "nbformat_minor": 5
}
