{
 "cells": [
  {
   "cell_type": "code",
   "execution_count": 1,
   "id": "73073436",
   "metadata": {},
   "outputs": [
    {
     "data": {
      "text/plain": [
       "[21, 45, -34, 90, 78, 23]"
      ]
     },
     "execution_count": 1,
     "metadata": {},
     "output_type": "execute_result"
    }
   ],
   "source": [
    "# Reversing a List\n",
    "x = [23,78,90,-34,45,21]\n",
    "x[::-1]"
   ]
  },
  {
   "cell_type": "code",
   "execution_count": 5,
   "id": "9b930d07",
   "metadata": {},
   "outputs": [
    {
     "name": "stdout",
     "output_type": "stream",
     "text": [
      "10\n"
     ]
    }
   ],
   "source": [
    "#sum & mul\n",
    "x = [1,2,3,4]\n",
    "y = 0\n",
    "for i in x:\n",
    "    y = y+i\n",
    "print(y)\n",
    "    \n"
   ]
  },
  {
   "cell_type": "code",
   "execution_count": 3,
   "id": "f31aaa1f",
   "metadata": {},
   "outputs": [
    {
     "data": {
      "text/plain": [
       "int"
      ]
     },
     "execution_count": 3,
     "metadata": {},
     "output_type": "execute_result"
    }
   ],
   "source": [
    "type(i)"
   ]
  },
  {
   "cell_type": "code",
   "execution_count": 7,
   "id": "de899c7f",
   "metadata": {},
   "outputs": [
    {
     "name": "stdout",
     "output_type": "stream",
     "text": [
      "24\n"
     ]
    }
   ],
   "source": [
    "x = [1,2,3,4]\n",
    "y = 1\n",
    "for i in x:\n",
    "    y = y*i\n",
    "print(y)"
   ]
  },
  {
   "cell_type": "code",
   "execution_count": 13,
   "id": "ea39e53b",
   "metadata": {},
   "outputs": [
    {
     "name": "stdout",
     "output_type": "stream",
     "text": [
      "Even number 34\n",
      "total even number is----> 1\n",
      "Even number 56\n",
      "total even number is----> 2\n",
      "Odd number 77\n",
      "Odd number 23\n",
      "Even number 98\n",
      "total even number is----> 3\n",
      "Odd number 79\n",
      "Odd number 21\n",
      "Odd number 67\n",
      "Even number 54\n",
      "total even number is----> 4\n"
     ]
    }
   ],
   "source": [
    "# odd even--->\n",
    "\n",
    "x = [34,56,77,23,98,79,21,67,54]\n",
    "count = 0 \n",
    "for i in x:\n",
    "    if i%2==0:\n",
    "        print(\"Even number\",i)\n",
    "        count = count+1\n",
    "        print(\"total even number is---->\",count)\n",
    "    else:\n",
    "        print(\"Odd number\",i)\n",
    "        "
   ]
  },
  {
   "cell_type": "code",
   "execution_count": 17,
   "id": "2a71133b",
   "metadata": {},
   "outputs": [
    {
     "name": "stdout",
     "output_type": "stream",
     "text": [
      "N number -1\n",
      "N number -45\n"
     ]
    }
   ],
   "source": [
    "# positive ----> 0<\n",
    "x = [-1,-45,89,56]\n",
    "for i in x:\n",
    "    if i<0:\n",
    "        print(\"N number\",i)"
   ]
  },
  {
   "cell_type": "code",
   "execution_count": 21,
   "id": "e714731a",
   "metadata": {},
   "outputs": [],
   "source": [
    "x = (1,2,3,4)\n",
    "y = str(x)"
   ]
  },
  {
   "cell_type": "code",
   "execution_count": 22,
   "id": "1db08bdd",
   "metadata": {},
   "outputs": [
    {
     "data": {
      "text/plain": [
       "'(1, 2, 3, 4)'"
      ]
     },
     "execution_count": 22,
     "metadata": {},
     "output_type": "execute_result"
    }
   ],
   "source": [
    "y"
   ]
  },
  {
   "cell_type": "code",
   "execution_count": 23,
   "id": "06872b20",
   "metadata": {},
   "outputs": [
    {
     "data": {
      "text/plain": [
       "(1, 2, 3, 4)"
      ]
     },
     "execution_count": 23,
     "metadata": {},
     "output_type": "execute_result"
    }
   ],
   "source": [
    "x"
   ]
  },
  {
   "cell_type": "code",
   "execution_count": 24,
   "id": "71bb5b35",
   "metadata": {},
   "outputs": [
    {
     "data": {
      "text/plain": [
       "2"
      ]
     },
     "execution_count": 24,
     "metadata": {},
     "output_type": "execute_result"
    }
   ],
   "source": [
    "x.index(3)"
   ]
  },
  {
   "cell_type": "code",
   "execution_count": 25,
   "id": "e06a8dd0",
   "metadata": {},
   "outputs": [
    {
     "data": {
      "text/plain": [
       "3"
      ]
     },
     "execution_count": 25,
     "metadata": {},
     "output_type": "execute_result"
    }
   ],
   "source": [
    "x[2]"
   ]
  },
  {
   "cell_type": "code",
   "execution_count": 26,
   "id": "09a1f720",
   "metadata": {},
   "outputs": [
    {
     "name": "stdout",
     "output_type": "stream",
     "text": [
      "[1, 2, 3, 4]\n"
     ]
    }
   ],
   "source": [
    "\n",
    "# 4.Write a Python program to add an item in a tuple.\n",
    "\n",
    "x = (1,2,3,4)\n",
    "y = list(x)\n",
    "print(y)"
   ]
  },
  {
   "cell_type": "code",
   "execution_count": 27,
   "id": "920cb7af",
   "metadata": {},
   "outputs": [],
   "source": [
    "y.insert(0,34)"
   ]
  },
  {
   "cell_type": "code",
   "execution_count": 29,
   "id": "dcc94fe7",
   "metadata": {},
   "outputs": [],
   "source": [
    "y.append(100)"
   ]
  },
  {
   "cell_type": "code",
   "execution_count": 30,
   "id": "e45970db",
   "metadata": {},
   "outputs": [
    {
     "name": "stdout",
     "output_type": "stream",
     "text": [
      "[34, 1, 2, 3, 4, 100]\n"
     ]
    }
   ],
   "source": [
    "print(y)"
   ]
  },
  {
   "cell_type": "code",
   "execution_count": 31,
   "id": "cfb04873",
   "metadata": {},
   "outputs": [],
   "source": [
    "z = tuple(y)"
   ]
  },
  {
   "cell_type": "code",
   "execution_count": 32,
   "id": "c06833c4",
   "metadata": {},
   "outputs": [
    {
     "name": "stdout",
     "output_type": "stream",
     "text": [
      "(34, 1, 2, 3, 4, 100)\n"
     ]
    }
   ],
   "source": [
    "print(z)"
   ]
  },
  {
   "cell_type": "code",
   "execution_count": 33,
   "id": "240bcd16",
   "metadata": {},
   "outputs": [
    {
     "data": {
      "text/plain": [
       "tuple"
      ]
     },
     "execution_count": 33,
     "metadata": {},
     "output_type": "execute_result"
    }
   ],
   "source": [
    "type(z)"
   ]
  },
  {
   "cell_type": "code",
   "execution_count": 34,
   "id": "4d8b1c54",
   "metadata": {},
   "outputs": [
    {
     "data": {
      "text/plain": [
       "(34, 1, 2, 3, 4, 100)"
      ]
     },
     "execution_count": 34,
     "metadata": {},
     "output_type": "execute_result"
    }
   ],
   "source": [
    "z"
   ]
  },
  {
   "cell_type": "code",
   "execution_count": 38,
   "id": "9b59eb52",
   "metadata": {},
   "outputs": [],
   "source": [
    "x=[1,2,3,4]"
   ]
  },
  {
   "cell_type": "code",
   "execution_count": 39,
   "id": "79192d6f",
   "metadata": {},
   "outputs": [
    {
     "data": {
      "text/plain": [
       "4"
      ]
     },
     "execution_count": 39,
     "metadata": {},
     "output_type": "execute_result"
    }
   ],
   "source": [
    "x.pop(3)"
   ]
  },
  {
   "cell_type": "code",
   "execution_count": 40,
   "id": "07bd62bd",
   "metadata": {},
   "outputs": [
    {
     "data": {
      "text/plain": [
       "(34, 1, 2, 3, 4, 100)"
      ]
     },
     "execution_count": 40,
     "metadata": {},
     "output_type": "execute_result"
    }
   ],
   "source": [
    "z"
   ]
  },
  {
   "cell_type": "code",
   "execution_count": 42,
   "id": "4827433b",
   "metadata": {},
   "outputs": [
    {
     "data": {
      "text/plain": [
       "0"
      ]
     },
     "execution_count": 42,
     "metadata": {},
     "output_type": "execute_result"
    }
   ],
   "source": [
    "z.index(34)"
   ]
  },
  {
   "cell_type": "code",
   "execution_count": 43,
   "id": "557d9639",
   "metadata": {},
   "outputs": [
    {
     "data": {
      "text/plain": [
       "(34, 1, 2, 3, 4, 100)"
      ]
     },
     "execution_count": 43,
     "metadata": {},
     "output_type": "execute_result"
    }
   ],
   "source": [
    "# #wap to add two list.\n",
    "# #wap to find common element in a list.\n",
    "# a = [56,78,90,23,12]\n",
    "# b = [90,45,34,121,89]\n",
    "\n",
    "z\n",
    "\n"
   ]
  },
  {
   "cell_type": "code",
   "execution_count": 45,
   "id": "59c0f940",
   "metadata": {},
   "outputs": [
    {
     "data": {
      "text/plain": [
       "(100, 4, 3, 2, 1, 34)"
      ]
     },
     "execution_count": 45,
     "metadata": {},
     "output_type": "execute_result"
    }
   ],
   "source": [
    "z[::-1]"
   ]
  },
  {
   "cell_type": "code",
   "execution_count": 46,
   "id": "c859887e",
   "metadata": {},
   "outputs": [
    {
     "ename": "TypeError",
     "evalue": "can only concatenate list (not \"tuple\") to list",
     "output_type": "error",
     "traceback": [
      "\u001b[1;31m---------------------------------------------------------------------------\u001b[0m",
      "\u001b[1;31mTypeError\u001b[0m                                 Traceback (most recent call last)",
      "\u001b[1;32m~\\AppData\\Local\\Temp/ipykernel_864/3981563028.py\u001b[0m in \u001b[0;36m<module>\u001b[1;34m\u001b[0m\n\u001b[0;32m      3\u001b[0m \u001b[0mx\u001b[0m \u001b[1;33m=\u001b[0m \u001b[1;33m[\u001b[0m\u001b[1;36m1\u001b[0m\u001b[1;33m,\u001b[0m\u001b[1;36m2\u001b[0m\u001b[1;33m]\u001b[0m\u001b[1;33m\u001b[0m\u001b[1;33m\u001b[0m\u001b[0m\n\u001b[0;32m      4\u001b[0m \u001b[0my\u001b[0m \u001b[1;33m=\u001b[0m \u001b[1;33m(\u001b[0m\u001b[1;36m3\u001b[0m\u001b[1;33m,\u001b[0m\u001b[1;36m4\u001b[0m\u001b[1;33m)\u001b[0m\u001b[1;33m\u001b[0m\u001b[1;33m\u001b[0m\u001b[0m\n\u001b[1;32m----> 5\u001b[1;33m \u001b[0mc\u001b[0m \u001b[1;33m=\u001b[0m \u001b[0mx\u001b[0m\u001b[1;33m+\u001b[0m\u001b[0my\u001b[0m\u001b[1;33m\u001b[0m\u001b[1;33m\u001b[0m\u001b[0m\n\u001b[0m\u001b[0;32m      6\u001b[0m \u001b[0mc\u001b[0m\u001b[1;33m\u001b[0m\u001b[1;33m\u001b[0m\u001b[0m\n",
      "\u001b[1;31mTypeError\u001b[0m: can only concatenate list (not \"tuple\") to list"
     ]
    }
   ],
   "source": [
    "# x = [(5,10,15,60,43,32)]\n",
    "# k = 5\n",
    "x = [1,2]\n",
    "y = (3,4)\n",
    "c = x+y\n",
    "c"
   ]
  },
  {
   "cell_type": "code",
   "execution_count": 61,
   "id": "4324d131",
   "metadata": {},
   "outputs": [
    {
     "name": "stdout",
     "output_type": "stream",
     "text": [
      "56\n",
      "not done 56\n",
      "55\n",
      "Done---> 55\n",
      "60\n",
      "Done---> 60\n",
      "45\n",
      "Done---> 45\n",
      "43\n",
      "not done 43\n"
     ]
    }
   ],
   "source": [
    "x = [[(56,55,60,45,43)]]\n",
    "a = 5\n",
    "for i in x:\n",
    "    for j in i:\n",
    "        for k in j:\n",
    "            print(k)\n",
    "            if k%a==0:\n",
    "                print('Done--->',k)\n",
    "            else:\n",
    "                print(\"not done\",k)"
   ]
  },
  {
   "cell_type": "code",
   "execution_count": 63,
   "id": "98b73d0e",
   "metadata": {},
   "outputs": [
    {
     "name": "stdout",
     "output_type": "stream",
     "text": [
      "1\n",
      "2\n",
      "3\n",
      "4\n"
     ]
    }
   ],
   "source": [
    "x = [(1,2,3,4)]\n",
    "for i in x:\n",
    "    for j in i:\n",
    "        print(j)"
   ]
  },
  {
   "cell_type": "code",
   "execution_count": 69,
   "id": "aaedf283",
   "metadata": {},
   "outputs": [
    {
     "name": "stdout",
     "output_type": "stream",
     "text": [
      "NC\n",
      "NC\n",
      "NC\n",
      "NC\n",
      "NC\n",
      "NC\n",
      "NC\n",
      "NC\n",
      "NC\n",
      "NC\n",
      "common 90\n",
      "6\n",
      "NC\n",
      "NC\n",
      "NC\n",
      "NC\n",
      "NC\n",
      "NC\n",
      "NC\n",
      "NC\n",
      "NC\n",
      "NC\n",
      "NC\n",
      "NC\n",
      "NC\n",
      "NC\n"
     ]
    }
   ],
   "source": [
    "# #wap to add two list.\n",
    "# #wap to find common element in a list.\n",
    "a = [56,78,90,23,12]\n",
    "b = [90,45,34,121,89]\n",
    "\n",
    "for i in a:\n",
    "    for j in b:\n",
    "        if i == j:\n",
    "            print(\"common\",j)\n",
    "        else:\n",
    "            print(\"NC\")\n",
    "\n",
    "\n"
   ]
  },
  {
   "cell_type": "code",
   "execution_count": 71,
   "id": "19b9176f",
   "metadata": {},
   "outputs": [],
   "source": [
    "t = (1,1,2,2,3,3,4,4)\n",
    "x = set(t)"
   ]
  },
  {
   "cell_type": "code",
   "execution_count": 73,
   "id": "5e6915be",
   "metadata": {},
   "outputs": [],
   "source": [
    "y = tuple(x)"
   ]
  },
  {
   "cell_type": "code",
   "execution_count": 74,
   "id": "86600a29",
   "metadata": {},
   "outputs": [
    {
     "name": "stdout",
     "output_type": "stream",
     "text": [
      "(1, 2, 3, 4)\n"
     ]
    }
   ],
   "source": [
    "print(y)"
   ]
  },
  {
   "cell_type": "code",
   "execution_count": null,
   "id": "207e5e13",
   "metadata": {},
   "outputs": [],
   "source": []
  }
 ],
 "metadata": {
  "kernelspec": {
   "display_name": "Python 3 (ipykernel)",
   "language": "python",
   "name": "python3"
  },
  "language_info": {
   "codemirror_mode": {
    "name": "ipython",
    "version": 3
   },
   "file_extension": ".py",
   "mimetype": "text/x-python",
   "name": "python",
   "nbconvert_exporter": "python",
   "pygments_lexer": "ipython3",
   "version": "3.9.7"
  }
 },
 "nbformat": 4,
 "nbformat_minor": 5
}
