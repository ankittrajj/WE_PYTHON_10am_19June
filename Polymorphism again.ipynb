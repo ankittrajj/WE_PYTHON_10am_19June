{
 "cells": [
  {
   "cell_type": "code",
   "execution_count": 2,
   "id": "5cf429c4",
   "metadata": {},
   "outputs": [
    {
     "name": "stdout",
     "output_type": "stream",
     "text": [
      "10\n"
     ]
    }
   ],
   "source": [
    "# Overloading\n",
    "# Operator overloading\n",
    "\n",
    "# +-----> \n",
    "# int + int ------> maths operation\n",
    "# str+str ------> join the data\n",
    "# int + str ------> not possible\n",
    "\n",
    "# int \n",
    "a = 7\n",
    "b = 3\n",
    "c = a+b\n",
    "print(c)"
   ]
  },
  {
   "cell_type": "code",
   "execution_count": 3,
   "id": "c855969b",
   "metadata": {},
   "outputs": [
    {
     "name": "stdout",
     "output_type": "stream",
     "text": [
      "45python\n"
     ]
    }
   ],
   "source": [
    "# str \n",
    "a = '45'\n",
    "b = 'python'\n",
    "c = a+b\n",
    "print(c)"
   ]
  },
  {
   "cell_type": "code",
   "execution_count": 5,
   "id": "3c071ead",
   "metadata": {},
   "outputs": [
    {
     "name": "stdout",
     "output_type": "stream",
     "text": [
      "10\n",
      "73\n"
     ]
    }
   ],
   "source": [
    "class poly:\n",
    "    a = 7\n",
    "    b = 3\n",
    "    c = a+b\n",
    "    print(c)\n",
    "    \n",
    "    a = '7'\n",
    "    b = '3'\n",
    "    c = a+b\n",
    "    print(c)\n",
    "    \n",
    "    \n",
    "p = poly()"
   ]
  },
  {
   "cell_type": "code",
   "execution_count": 16,
   "id": "fd54b05a",
   "metadata": {},
   "outputs": [
    {
     "data": {
      "text/plain": [
       "14"
      ]
     },
     "execution_count": 16,
     "metadata": {},
     "output_type": "execute_result"
    }
   ],
   "source": [
    "# function/method overloading\n",
    "\n",
    "# default arg\n",
    "\n",
    "def fun(a=2,b=5,z=4):\n",
    "    c = a*b+z\n",
    "    return c\n",
    "\n",
    "fun()"
   ]
  },
  {
   "cell_type": "code",
   "execution_count": 9,
   "id": "a6631106",
   "metadata": {},
   "outputs": [
    {
     "data": {
      "text/plain": [
       "0"
      ]
     },
     "execution_count": 9,
     "metadata": {},
     "output_type": "execute_result"
    }
   ],
   "source": [
    "fun()"
   ]
  },
  {
   "cell_type": "code",
   "execution_count": 10,
   "id": "0c3861a1",
   "metadata": {},
   "outputs": [
    {
     "data": {
      "text/plain": [
       "0"
      ]
     },
     "execution_count": 10,
     "metadata": {},
     "output_type": "execute_result"
    }
   ],
   "source": [
    "fun(5)"
   ]
  },
  {
   "cell_type": "code",
   "execution_count": 11,
   "id": "ea2f3926",
   "metadata": {},
   "outputs": [
    {
     "ename": "SyntaxError",
     "evalue": "invalid syntax (Temp/ipykernel_6972/3564106584.py, line 1)",
     "output_type": "error",
     "traceback": [
      "\u001b[1;36m  File \u001b[1;32m\"C:\\Users\\Satyam\\AppData\\Local\\Temp/ipykernel_6972/3564106584.py\"\u001b[1;36m, line \u001b[1;32m1\u001b[0m\n\u001b[1;33m    fun(,9)\u001b[0m\n\u001b[1;37m        ^\u001b[0m\n\u001b[1;31mSyntaxError\u001b[0m\u001b[1;31m:\u001b[0m invalid syntax\n"
     ]
    }
   ],
   "source": [
    "fun(,9)"
   ]
  },
  {
   "cell_type": "code",
   "execution_count": 17,
   "id": "25d23705",
   "metadata": {},
   "outputs": [
    {
     "data": {
      "text/plain": [
       "27"
      ]
     },
     "execution_count": 17,
     "metadata": {},
     "output_type": "execute_result"
    }
   ],
   "source": [
    "fun(3,6,9)"
   ]
  },
  {
   "cell_type": "code",
   "execution_count": 19,
   "id": "cd4bea82",
   "metadata": {},
   "outputs": [
    {
     "data": {
      "text/plain": [
       "5"
      ]
     },
     "execution_count": 19,
     "metadata": {},
     "output_type": "execute_result"
    }
   ],
   "source": [
    "class poly:\n",
    "    def fun(self,a=9,b=5):\n",
    "        c = a+b\n",
    "        return c\n",
    "    \n",
    "p = poly()\n",
    "p.fun(2,3)"
   ]
  },
  {
   "cell_type": "code",
   "execution_count": 20,
   "id": "8518ac0a",
   "metadata": {},
   "outputs": [
    {
     "data": {
      "text/plain": [
       "14"
      ]
     },
     "execution_count": 20,
     "metadata": {},
     "output_type": "execute_result"
    }
   ],
   "source": [
    "p.fun()"
   ]
  },
  {
   "cell_type": "code",
   "execution_count": 21,
   "id": "00d2cf9a",
   "metadata": {},
   "outputs": [
    {
     "data": {
      "text/plain": [
       "9"
      ]
     },
     "execution_count": 21,
     "metadata": {},
     "output_type": "execute_result"
    }
   ],
   "source": [
    "p.fun(4)"
   ]
  },
  {
   "cell_type": "code",
   "execution_count": 22,
   "id": "5eb2a7f3",
   "metadata": {},
   "outputs": [
    {
     "data": {
      "text/plain": [
       "0"
      ]
     },
     "execution_count": 22,
     "metadata": {},
     "output_type": "execute_result"
    }
   ],
   "source": [
    "p.fun(0,0)"
   ]
  },
  {
   "cell_type": "code",
   "execution_count": null,
   "id": "0149f62c",
   "metadata": {},
   "outputs": [],
   "source": []
  }
 ],
 "metadata": {
  "kernelspec": {
   "display_name": "Python 3 (ipykernel)",
   "language": "python",
   "name": "python3"
  },
  "language_info": {
   "codemirror_mode": {
    "name": "ipython",
    "version": 3
   },
   "file_extension": ".py",
   "mimetype": "text/x-python",
   "name": "python",
   "nbconvert_exporter": "python",
   "pygments_lexer": "ipython3",
   "version": "3.9.7"
  }
 },
 "nbformat": 4,
 "nbformat_minor": 5
}
