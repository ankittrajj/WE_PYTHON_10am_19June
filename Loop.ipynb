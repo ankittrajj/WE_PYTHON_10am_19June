{
 "cells": [
  {
   "cell_type": "code",
   "execution_count": 1,
   "id": "a7774de3",
   "metadata": {},
   "outputs": [
    {
     "name": "stdout",
     "output_type": "stream",
     "text": [
      "1\n"
     ]
    }
   ],
   "source": [
    "#wap to print 1-5.\n",
    "print(1)\n"
   ]
  },
  {
   "cell_type": "code",
   "execution_count": 2,
   "id": "c59e04ef",
   "metadata": {},
   "outputs": [
    {
     "name": "stdout",
     "output_type": "stream",
     "text": [
      "2\n"
     ]
    }
   ],
   "source": [
    "print(2)"
   ]
  },
  {
   "cell_type": "code",
   "execution_count": 3,
   "id": "4a06d32c",
   "metadata": {},
   "outputs": [
    {
     "name": "stdout",
     "output_type": "stream",
     "text": [
      "3\n"
     ]
    }
   ],
   "source": [
    "print(3)"
   ]
  },
  {
   "cell_type": "code",
   "execution_count": 4,
   "id": "ee568969",
   "metadata": {},
   "outputs": [
    {
     "name": "stdout",
     "output_type": "stream",
     "text": [
      "4\n"
     ]
    }
   ],
   "source": [
    "print(4)"
   ]
  },
  {
   "cell_type": "code",
   "execution_count": 5,
   "id": "102c8c89",
   "metadata": {},
   "outputs": [
    {
     "name": "stdout",
     "output_type": "stream",
     "text": [
      "5\n"
     ]
    }
   ],
   "source": [
    "print(5)"
   ]
  },
  {
   "cell_type": "code",
   "execution_count": 6,
   "id": "56703903",
   "metadata": {},
   "outputs": [
    {
     "name": "stdout",
     "output_type": "stream",
     "text": [
      "0\n",
      "1\n",
      "2\n",
      "3\n",
      "4\n"
     ]
    }
   ],
   "source": [
    "# for & while\n",
    "# for loop----- it will work with range function.\n",
    "\n",
    "#wap to print numbers from 1-5.\n",
    "\n",
    "\n",
    "# for loop syntax---->\n",
    "# for variable in range(define the range):\n",
    "#     print(variable)\n",
    "\n",
    "\n",
    "for i in range(5):\n",
    "    print(i)"
   ]
  },
  {
   "cell_type": "code",
   "execution_count": 7,
   "id": "97f82289",
   "metadata": {},
   "outputs": [
    {
     "name": "stdout",
     "output_type": "stream",
     "text": [
      "2\n",
      "3\n",
      "4\n",
      "5\n"
     ]
    }
   ],
   "source": [
    "#wap to print number from 10-50.\n",
    "for i in range(2,6):\n",
    "    print(i)"
   ]
  },
  {
   "cell_type": "code",
   "execution_count": 8,
   "id": "5f3a4e62",
   "metadata": {},
   "outputs": [
    {
     "name": "stdout",
     "output_type": "stream",
     "text": [
      "1\n",
      "2\n",
      "3\n",
      "4\n",
      "5\n",
      "6\n",
      "7\n",
      "8\n",
      "9\n"
     ]
    }
   ],
   "source": [
    "for i in range(1,10):\n",
    "    print(i)"
   ]
  },
  {
   "cell_type": "code",
   "execution_count": 9,
   "id": "0aee1fba",
   "metadata": {},
   "outputs": [
    {
     "name": "stdout",
     "output_type": "stream",
     "text": [
      "10\n",
      "11\n",
      "12\n",
      "13\n",
      "14\n",
      "15\n",
      "16\n",
      "17\n",
      "18\n",
      "19\n",
      "20\n",
      "21\n",
      "22\n",
      "23\n",
      "24\n",
      "25\n",
      "26\n",
      "27\n",
      "28\n",
      "29\n",
      "30\n"
     ]
    }
   ],
   "source": [
    "#wap to print the number from 10-30.\n",
    "for i in range(10,31):\n",
    "    print(i)"
   ]
  },
  {
   "cell_type": "code",
   "execution_count": 10,
   "id": "8cf31887",
   "metadata": {},
   "outputs": [
    {
     "name": "stdout",
     "output_type": "stream",
     "text": [
      "\n",
      "A\n",
      "AA\n",
      "AAA\n",
      "AAAA\n",
      "AAAAA\n",
      "AAAAAA\n",
      "AAAAAAA\n",
      "AAAAAAAA\n",
      "AAAAAAAAA\n"
     ]
    }
   ],
   "source": [
    "for i in range(10):\n",
    "    print(\"A\"*i)"
   ]
  },
  {
   "cell_type": "code",
   "execution_count": 11,
   "id": "71546de6",
   "metadata": {},
   "outputs": [
    {
     "name": "stdout",
     "output_type": "stream",
     "text": [
      "5\n",
      "6\n",
      "7\n",
      "8\n",
      "9\n",
      "10\n",
      "11\n",
      "12\n",
      "13\n",
      "14\n",
      "15\n",
      "16\n",
      "17\n",
      "18\n",
      "19\n",
      "20\n",
      "21\n",
      "22\n",
      "23\n",
      "24\n",
      "25\n",
      "26\n",
      "27\n",
      "28\n",
      "29\n",
      "30\n",
      "31\n",
      "32\n",
      "33\n",
      "34\n",
      "35\n",
      "36\n",
      "37\n",
      "38\n",
      "39\n",
      "40\n",
      "41\n",
      "42\n",
      "43\n",
      "44\n",
      "45\n",
      "46\n",
      "47\n",
      "48\n",
      "49\n",
      "50\n",
      "51\n",
      "52\n",
      "53\n",
      "54\n",
      "55\n",
      "56\n",
      "57\n",
      "58\n",
      "59\n",
      "60\n",
      "61\n",
      "62\n",
      "63\n",
      "64\n",
      "65\n",
      "66\n",
      "67\n",
      "68\n",
      "69\n",
      "70\n",
      "71\n",
      "72\n",
      "73\n",
      "74\n",
      "75\n",
      "76\n",
      "77\n",
      "78\n",
      "79\n",
      "80\n",
      "81\n",
      "82\n",
      "83\n",
      "84\n",
      "85\n",
      "86\n",
      "87\n",
      "88\n",
      "89\n",
      "90\n",
      "91\n",
      "92\n",
      "93\n",
      "94\n",
      "95\n",
      "96\n",
      "97\n",
      "98\n",
      "99\n"
     ]
    }
   ],
   "source": [
    "for i in range(5,100):\n",
    "    print(i)"
   ]
  },
  {
   "cell_type": "code",
   "execution_count": 12,
   "id": "3e46b77a",
   "metadata": {},
   "outputs": [
    {
     "name": "stdout",
     "output_type": "stream",
     "text": [
      "1\n",
      "3\n",
      "5\n",
      "7\n",
      "9\n"
     ]
    }
   ],
   "source": [
    "for i in range(1,10,2):\n",
    "    print(i)"
   ]
  },
  {
   "cell_type": "code",
   "execution_count": 13,
   "id": "fac722be",
   "metadata": {},
   "outputs": [
    {
     "name": "stdout",
     "output_type": "stream",
     "text": [
      "0\n",
      "1\n",
      "2\n",
      "3\n",
      "4\n",
      "5\n"
     ]
    }
   ],
   "source": [
    "n = 5\n",
    "for i in range(0,n+1):\n",
    "    print(i)"
   ]
  },
  {
   "cell_type": "code",
   "execution_count": 14,
   "id": "ad7e3acf",
   "metadata": {},
   "outputs": [
    {
     "name": "stdout",
     "output_type": "stream",
     "text": [
      "Even  number------> 2\n",
      "Even  number------> 4\n",
      "Even  number------> 6\n",
      "Even  number------> 8\n",
      "Even  number------> 10\n",
      "Even  number------> 12\n",
      "Even  number------> 14\n",
      "Even  number------> 16\n",
      "Even  number------> 18\n",
      "Even  number------> 20\n"
     ]
    }
   ],
   "source": [
    "#wap to print\n",
    "# 1 even number from 1-20.\n",
    "# odd number from 1-50.\n",
    "\n",
    "\n",
    "for i in range(1,21):\n",
    "    if i % 2 == 0:\n",
    "        print(\"Even  number------>\",i)"
   ]
  },
  {
   "cell_type": "code",
   "execution_count": 15,
   "id": "f94cfcb0",
   "metadata": {},
   "outputs": [
    {
     "name": "stdout",
     "output_type": "stream",
     "text": [
      "Odd number------> 1\n",
      "Odd number------> 3\n",
      "Odd number------> 5\n",
      "Odd number------> 7\n",
      "Odd number------> 9\n",
      "Odd number------> 11\n",
      "Odd number------> 13\n",
      "Odd number------> 15\n",
      "Odd number------> 17\n",
      "Odd number------> 19\n",
      "Odd number------> 21\n",
      "Odd number------> 23\n",
      "Odd number------> 25\n",
      "Odd number------> 27\n",
      "Odd number------> 29\n",
      "Odd number------> 31\n",
      "Odd number------> 33\n",
      "Odd number------> 35\n",
      "Odd number------> 37\n",
      "Odd number------> 39\n",
      "Odd number------> 41\n",
      "Odd number------> 43\n",
      "Odd number------> 45\n",
      "Odd number------> 47\n",
      "Odd number------> 49\n"
     ]
    }
   ],
   "source": [
    "for i in range(1,51):\n",
    "    if i % 2 != 0:\n",
    "        print(\"Odd number------>\",i)"
   ]
  },
  {
   "cell_type": "code",
   "execution_count": 16,
   "id": "f55d32a5",
   "metadata": {},
   "outputs": [
    {
     "name": "stdout",
     "output_type": "stream",
     "text": [
      "1\n",
      "2\n",
      "3\n",
      "4\n",
      "5\n",
      "6\n",
      "7\n",
      "8\n",
      "9\n"
     ]
    }
   ],
   "source": [
    "#while loop-----> \n",
    "#1. initialization\n",
    "#2. condition\n",
    "#3. increment/decrement\n",
    "\n",
    "\n",
    "#wap to print from 1-10.\n",
    "\n",
    "x = 1\n",
    "while x<10:\n",
    "    print(x)\n",
    "#     x = x+1\n",
    "#     x++     ---------> will not work with python.\n",
    "    x+=1"
   ]
  },
  {
   "cell_type": "code",
   "execution_count": 17,
   "id": "6d3b33f3",
   "metadata": {},
   "outputs": [
    {
     "name": "stdout",
     "output_type": "stream",
     "text": [
      "Even number 2\n",
      "Even number 4\n",
      "Even number 6\n",
      "Even number 8\n",
      "Even number 10\n",
      "Even number 12\n",
      "Even number 14\n",
      "Even number 16\n",
      "Even number 18\n",
      "Even number 20\n"
     ]
    }
   ],
   "source": [
    "x = 1\n",
    "while x<=20:\n",
    "    if x%2==0:\n",
    "        print(\"Even number\",x)\n",
    "    x=x+1"
   ]
  },
  {
   "cell_type": "code",
   "execution_count": 18,
   "id": "4c60d4fe",
   "metadata": {},
   "outputs": [
    {
     "name": "stdout",
     "output_type": "stream",
     "text": [
      "1\n",
      "odd number-------> 1\n",
      "2\n",
      "3\n",
      "odd number-------> 3\n",
      "4\n",
      "5\n",
      "odd number-------> 5\n",
      "6\n",
      "7\n",
      "odd number-------> 7\n",
      "8\n",
      "9\n",
      "odd number-------> 9\n",
      "10\n",
      "11\n",
      "odd number-------> 11\n",
      "12\n",
      "13\n",
      "odd number-------> 13\n",
      "14\n",
      "15\n",
      "odd number-------> 15\n",
      "16\n",
      "17\n",
      "odd number-------> 17\n",
      "18\n",
      "19\n",
      "odd number-------> 19\n",
      "20\n",
      "21\n",
      "odd number-------> 21\n",
      "22\n",
      "23\n",
      "odd number-------> 23\n",
      "24\n",
      "25\n",
      "odd number-------> 25\n",
      "26\n",
      "27\n",
      "odd number-------> 27\n",
      "28\n",
      "29\n",
      "odd number-------> 29\n",
      "30\n",
      "31\n",
      "odd number-------> 31\n",
      "32\n",
      "33\n",
      "odd number-------> 33\n",
      "34\n",
      "35\n",
      "odd number-------> 35\n",
      "36\n",
      "37\n",
      "odd number-------> 37\n",
      "38\n",
      "39\n",
      "odd number-------> 39\n",
      "40\n",
      "41\n",
      "odd number-------> 41\n",
      "42\n",
      "43\n",
      "odd number-------> 43\n",
      "44\n",
      "45\n",
      "odd number-------> 45\n",
      "46\n",
      "47\n",
      "odd number-------> 47\n",
      "48\n",
      "49\n",
      "odd number-------> 49\n",
      "50\n"
     ]
    }
   ],
   "source": [
    "x = 1\n",
    "while x<=50:\n",
    "    print(x)\n",
    "    if x%2!=0:\n",
    "        print(\"odd number------->\",x)\n",
    "    x+=1"
   ]
  },
  {
   "cell_type": "code",
   "execution_count": 19,
   "id": "967e987f",
   "metadata": {},
   "outputs": [],
   "source": [
    "# difference between while & for loop.\n",
    "# syntax\n",
    "# for---> range\n",
    "# while----> condition.\n",
    "\n",
    "\n",
    "# for ------> we know the number of iteration!!.\n",
    "# while -----> iterartion is known or unknown!!.\n",
    "# while True"
   ]
  },
  {
   "cell_type": "code",
   "execution_count": 20,
   "id": "2e032226",
   "metadata": {},
   "outputs": [
    {
     "name": "stdout",
     "output_type": "stream",
     "text": [
      "10\n",
      "14\n",
      "18\n",
      "22\n",
      "26\n",
      "30\n",
      "34\n",
      "38\n",
      "42\n",
      "46\n",
      "50\n"
     ]
    }
   ],
   "source": [
    "# 10-50\n",
    "a = 10\n",
    "while a<=50:\n",
    "    print(a)\n",
    "    a+=4"
   ]
  },
  {
   "cell_type": "code",
   "execution_count": 22,
   "id": "111289be",
   "metadata": {},
   "outputs": [
    {
     "name": "stdout",
     "output_type": "stream",
     "text": [
      "-10\n",
      "-9\n",
      "-8\n",
      "-7\n",
      "-6\n",
      "-5\n",
      "-4\n",
      "-3\n",
      "-2\n",
      "-1\n",
      "0\n",
      "1\n",
      "2\n",
      "3\n",
      "4\n",
      "5\n",
      "6\n",
      "7\n",
      "8\n",
      "9\n",
      "10\n"
     ]
    }
   ],
   "source": [
    "#wap to print number from -10 to 10 using while loop.\n",
    "x = -10\n",
    "while x<=10:\n",
    "    print(x)\n",
    "    x=x+1"
   ]
  },
  {
   "cell_type": "code",
   "execution_count": null,
   "id": "e34ba7e3",
   "metadata": {},
   "outputs": [],
   "source": []
  }
 ],
 "metadata": {
  "kernelspec": {
   "display_name": "Python 3 (ipykernel)",
   "language": "python",
   "name": "python3"
  },
  "language_info": {
   "codemirror_mode": {
    "name": "ipython",
    "version": 3
   },
   "file_extension": ".py",
   "mimetype": "text/x-python",
   "name": "python",
   "nbconvert_exporter": "python",
   "pygments_lexer": "ipython3",
   "version": "3.9.7"
  }
 },
 "nbformat": 4,
 "nbformat_minor": 5
}
