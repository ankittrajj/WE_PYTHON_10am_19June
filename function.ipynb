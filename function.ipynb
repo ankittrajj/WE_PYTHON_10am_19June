{
 "cells": [
  {
   "cell_type": "code",
   "execution_count": 1,
   "id": "898af508",
   "metadata": {},
   "outputs": [],
   "source": [
    "# # syntax----->\n",
    "# define the function function name():\n",
    "#     print the msg"
   ]
  },
  {
   "cell_type": "code",
   "execution_count": 2,
   "id": "6dee1855",
   "metadata": {},
   "outputs": [],
   "source": [
    "def hello():\n",
    "    print(\"good morning!!\")"
   ]
  },
  {
   "cell_type": "code",
   "execution_count": 3,
   "id": "f5c91102",
   "metadata": {},
   "outputs": [
    {
     "name": "stdout",
     "output_type": "stream",
     "text": [
      "good morning!!\n"
     ]
    }
   ],
   "source": [
    "# call the function---->\n",
    "hello()"
   ]
  },
  {
   "cell_type": "code",
   "execution_count": 5,
   "id": "7c02b2db",
   "metadata": {},
   "outputs": [],
   "source": [
    "# user defined function------>\n",
    "# 4types of function\n",
    "\n",
    "# no return no arg\n",
    "# no return with arg\n",
    "# with retutn with arg\n",
    "# with return no arg"
   ]
  },
  {
   "cell_type": "code",
   "execution_count": null,
   "id": "95321675",
   "metadata": {},
   "outputs": [],
   "source": [
    "#wap to add two numbers using function."
   ]
  },
  {
   "cell_type": "code",
   "execution_count": 9,
   "id": "9f205333",
   "metadata": {},
   "outputs": [
    {
     "name": "stdout",
     "output_type": "stream",
     "text": [
      "10\n"
     ]
    }
   ],
   "source": [
    "# 1. no return no arg\n",
    "def add():\n",
    "    a = 9\n",
    "    b = 1\n",
    "    c=a+b\n",
    "    print(c)\n",
    "    \n",
    "add()"
   ]
  },
  {
   "cell_type": "code",
   "execution_count": 12,
   "id": "dfd9217e",
   "metadata": {},
   "outputs": [
    {
     "name": "stdout",
     "output_type": "stream",
     "text": [
      "3\n"
     ]
    }
   ],
   "source": [
    "# 2.with arg no return\n",
    "def add(x,y):\n",
    "    z = x+y\n",
    "    print(z)\n",
    "    \n",
    "add(1,2)"
   ]
  },
  {
   "cell_type": "code",
   "execution_count": 10,
   "id": "aae17a2b",
   "metadata": {},
   "outputs": [
    {
     "name": "stdout",
     "output_type": "stream",
     "text": [
      "hello\n"
     ]
    }
   ],
   "source": [
    "print(\"hello\")"
   ]
  },
  {
   "cell_type": "code",
   "execution_count": 13,
   "id": "42d0765f",
   "metadata": {},
   "outputs": [
    {
     "name": "stdout",
     "output_type": "stream",
     "text": [
      "134\n"
     ]
    }
   ],
   "source": [
    "add(45,89)"
   ]
  },
  {
   "cell_type": "code",
   "execution_count": 14,
   "id": "df354e2c",
   "metadata": {},
   "outputs": [
    {
     "name": "stdout",
     "output_type": "stream",
     "text": [
      "-1\n"
     ]
    }
   ],
   "source": [
    "def add1(x,y):\n",
    "    z = x-y\n",
    "    print(z)\n",
    "    \n",
    "add1(1,2)"
   ]
  },
  {
   "cell_type": "code",
   "execution_count": 17,
   "id": "d0ff3b62",
   "metadata": {},
   "outputs": [
    {
     "name": "stdout",
     "output_type": "stream",
     "text": [
      "7\n",
      "sdfgsgdfg\n"
     ]
    }
   ],
   "source": [
    "#with arg with return \n",
    "def add(a,b):\n",
    "    c = a+b\n",
    "    print(c)\n",
    "    print(\"sdfgsgdfg\")\n",
    "    \n",
    "\n",
    "add(3,4)"
   ]
  },
  {
   "cell_type": "code",
   "execution_count": 25,
   "id": "5fc6c2ca",
   "metadata": {},
   "outputs": [
    {
     "data": {
      "text/plain": [
       "49"
      ]
     },
     "execution_count": 25,
     "metadata": {},
     "output_type": "execute_result"
    }
   ],
   "source": [
    "def add(a,b):\n",
    "    c = a+b\n",
    "    return(c)\n",
    "    print(\"swgrtgr\")\n",
    "\n",
    "\n",
    "add(3,46)"
   ]
  },
  {
   "cell_type": "code",
   "execution_count": 24,
   "id": "a8e2b328",
   "metadata": {},
   "outputs": [
    {
     "name": "stdout",
     "output_type": "stream",
     "text": [
      "heelo\n"
     ]
    }
   ],
   "source": [
    "print(\"heelo\")"
   ]
  },
  {
   "cell_type": "code",
   "execution_count": 26,
   "id": "d62232b2",
   "metadata": {},
   "outputs": [
    {
     "ename": "SyntaxError",
     "evalue": "'return' outside function (Temp/ipykernel_5988/4232091779.py, line 1)",
     "output_type": "error",
     "traceback": [
      "\u001b[1;36m  File \u001b[1;32m\"C:\\Users\\Satyam\\AppData\\Local\\Temp/ipykernel_5988/4232091779.py\"\u001b[1;36m, line \u001b[1;32m1\u001b[0m\n\u001b[1;33m    return('hello')\u001b[0m\n\u001b[1;37m    ^\u001b[0m\n\u001b[1;31mSyntaxError\u001b[0m\u001b[1;31m:\u001b[0m 'return' outside function\n"
     ]
    }
   ],
   "source": [
    "return('hello')"
   ]
  },
  {
   "cell_type": "code",
   "execution_count": 28,
   "id": "b4a132a5",
   "metadata": {},
   "outputs": [
    {
     "data": {
      "text/plain": [
       "7"
      ]
     },
     "execution_count": 28,
     "metadata": {},
     "output_type": "execute_result"
    }
   ],
   "source": [
    "#no arg with return\n",
    "def add():\n",
    "    x=1\n",
    "    y=6\n",
    "    z = x+y\n",
    "    return( z)\n",
    "\n",
    "add()"
   ]
  },
  {
   "cell_type": "code",
   "execution_count": null,
   "id": "03a6c7e5",
   "metadata": {},
   "outputs": [],
   "source": []
  },
  {
   "cell_type": "code",
   "execution_count": null,
   "id": "f18aecf7",
   "metadata": {},
   "outputs": [],
   "source": []
  },
  {
   "cell_type": "code",
   "execution_count": null,
   "id": "be9f2a48",
   "metadata": {},
   "outputs": [],
   "source": []
  },
  {
   "cell_type": "code",
   "execution_count": null,
   "id": "6f0ac08e",
   "metadata": {},
   "outputs": [],
   "source": []
  },
  {
   "cell_type": "code",
   "execution_count": null,
   "id": "4f2db41d",
   "metadata": {},
   "outputs": [],
   "source": []
  },
  {
   "cell_type": "code",
   "execution_count": null,
   "id": "dfa50988",
   "metadata": {},
   "outputs": [],
   "source": []
  },
  {
   "cell_type": "code",
   "execution_count": null,
   "id": "a8019db1",
   "metadata": {},
   "outputs": [],
   "source": []
  },
  {
   "cell_type": "code",
   "execution_count": null,
   "id": "28cf66ea",
   "metadata": {},
   "outputs": [],
   "source": []
  },
  {
   "cell_type": "code",
   "execution_count": null,
   "id": "1bb1e892",
   "metadata": {},
   "outputs": [],
   "source": []
  },
  {
   "cell_type": "code",
   "execution_count": null,
   "id": "8f2ec76b",
   "metadata": {},
   "outputs": [],
   "source": []
  },
  {
   "cell_type": "code",
   "execution_count": 4,
   "id": "1b382fc9",
   "metadata": {},
   "outputs": [
    {
     "name": "stdout",
     "output_type": "stream",
     "text": [
      "good morning!!\n"
     ]
    }
   ],
   "source": [
    "hello()"
   ]
  },
  {
   "cell_type": "code",
   "execution_count": null,
   "id": "0fc01e3c",
   "metadata": {},
   "outputs": [],
   "source": []
  }
 ],
 "metadata": {
  "kernelspec": {
   "display_name": "Python 3 (ipykernel)",
   "language": "python",
   "name": "python3"
  },
  "language_info": {
   "codemirror_mode": {
    "name": "ipython",
    "version": 3
   },
   "file_extension": ".py",
   "mimetype": "text/x-python",
   "name": "python",
   "nbconvert_exporter": "python",
   "pygments_lexer": "ipython3",
   "version": "3.9.7"
  }
 },
 "nbformat": 4,
 "nbformat_minor": 5
}
