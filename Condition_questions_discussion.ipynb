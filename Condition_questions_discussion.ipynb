{
 "cells": [
  {
   "cell_type": "code",
   "execution_count": 13,
   "id": "c1905316",
   "metadata": {},
   "outputs": [
    {
     "name": "stdout",
     "output_type": "stream",
     "text": [
      "Enter year of service7\n",
      "Enter the salary89000\n",
      "My net bonus is ------> 4450.0\n",
      "93450.0\n"
     ]
    }
   ],
   "source": [
    "# # A company decided to give bonus of \n",
    "# 5% to employee if his/her year of service\n",
    "# is more than 5 years.\n",
    "# # Ask user for their salary and year of \n",
    "# service and print the net bonus amount.\n",
    "# Also print the salary after bonus.\n",
    "\n",
    "# for comment use ctrl+/\n",
    "\n",
    "\n",
    "year_of_service = int(input(\"Enter year of service\"))\n",
    "salary = int(input(\"Enter the salary\"))\n",
    "\n",
    "if year_of_service>5:\n",
    "    bonus = (salary * 5)/100\n",
    "    print(\"My net bonus is ------>\",bonus)\n",
    "    t_sal = bonus+salary\n",
    "    print(t_sal)\n",
    "#     salary*0.05\n",
    "else:\n",
    "    print(\"No bonus\")\n",
    "    \n"
   ]
  },
  {
   "cell_type": "code",
   "execution_count": null,
   "id": "23746f99",
   "metadata": {},
   "outputs": [],
   "source": [
    "# a = int(input(\"enter the salary\"))\n",
    "# b= int (input(\"enter the year of service\"))\n",
    "# if b>5:\n",
    "# print(\"(5*a)/100\")\n",
    "# else:\n",
    "# print(\"You are not eligible for the bonus \")\n"
   ]
  },
  {
   "cell_type": "code",
   "execution_count": 9,
   "id": "30134102",
   "metadata": {},
   "outputs": [
    {
     "name": "stdout",
     "output_type": "stream",
     "text": [
      "Akshay\n"
     ]
    }
   ],
   "source": [
    "print(\"Akshay\")"
   ]
  },
  {
   "cell_type": "code",
   "execution_count": 10,
   "id": "dce849e2",
   "metadata": {},
   "outputs": [
    {
     "ename": "NameError",
     "evalue": "name 'Akshay' is not defined",
     "output_type": "error",
     "traceback": [
      "\u001b[1;31m---------------------------------------------------------------------------\u001b[0m",
      "\u001b[1;31mNameError\u001b[0m                                 Traceback (most recent call last)",
      "\u001b[1;32m~\\AppData\\Local\\Temp/ipykernel_5984/449607527.py\u001b[0m in \u001b[0;36m<module>\u001b[1;34m\u001b[0m\n\u001b[1;32m----> 1\u001b[1;33m \u001b[0mprint\u001b[0m\u001b[1;33m(\u001b[0m\u001b[0mAkshay\u001b[0m\u001b[1;33m)\u001b[0m\u001b[1;33m\u001b[0m\u001b[1;33m\u001b[0m\u001b[0m\n\u001b[0m",
      "\u001b[1;31mNameError\u001b[0m: name 'Akshay' is not defined"
     ]
    }
   ],
   "source": [
    "print(Akshay)"
   ]
  },
  {
   "cell_type": "code",
   "execution_count": 11,
   "id": "8aac490a",
   "metadata": {},
   "outputs": [
    {
     "name": "stdout",
     "output_type": "stream",
     "text": [
      "Akki\n"
     ]
    }
   ],
   "source": [
    "a = \"Akki\"\n",
    "print(a)"
   ]
  },
  {
   "cell_type": "code",
   "execution_count": 16,
   "id": "479081a7",
   "metadata": {},
   "outputs": [
    {
     "name": "stdout",
     "output_type": "stream",
     "text": [
      "Enter the len3\n",
      "Enter the breadth3\n",
      "square\n"
     ]
    }
   ],
   "source": [
    "# Take values of length and breadth of a rectangle\n",
    "# from user and check if it is square or not.\n",
    "\n",
    "l = int(input(\"Enter the len\"))\n",
    "b = int(input(\"Enter the breadth\"))\n",
    "if l==b:\n",
    "    print(\"square\")\n",
    "else:\n",
    "    print(\"NS\")"
   ]
  },
  {
   "cell_type": "code",
   "execution_count": 17,
   "id": "75e67cec",
   "metadata": {},
   "outputs": [
    {
     "name": "stdout",
     "output_type": "stream",
     "text": [
      "90\n"
     ]
    }
   ],
   "source": [
    "# Take three values from user and print greatest among them.\n",
    "a = 90\n",
    "b = 45\n",
    "c = 28\n",
    "\n",
    "if a>b and a>c:\n",
    "    print(a)\n",
    "elif b>a and b>c:\n",
    "    print(b)\n",
    "elif c>a and c>b:\n",
    "    print(c)\n",
    "# else:\n",
    "#     print(\"Invalid output\")\n"
   ]
  },
  {
   "cell_type": "code",
   "execution_count": 20,
   "id": "baa583f8",
   "metadata": {},
   "outputs": [
    {
     "name": "stdout",
     "output_type": "stream",
     "text": [
      "No discount\n"
     ]
    }
   ],
   "source": [
    "# A shop will give discount of 10% if the\n",
    "# cost of purchased quantity is more than 10.\n",
    "# Ask user for quantity\n",
    "# Suppose, one unit will cost 100.\n",
    "# Judge and print total cost for user.\n",
    "\n",
    "unit_price = 100\n",
    "quantity = 2\n",
    "\n",
    "if quantity > 10:\n",
    "    total_cost = unit_price*quantity\n",
    "    discount = (total_cost*10)/100\n",
    "    cost_after_discount = total_cost - discount\n",
    "    print(\"Total Payment by user-----> \",cost_after_discount)\n",
    "else:\n",
    "    print(\"No discount\")\n",
    "\n"
   ]
  },
  {
   "cell_type": "code",
   "execution_count": 37,
   "id": "dd79342d",
   "metadata": {},
   "outputs": [
    {
     "name": "stdout",
     "output_type": "stream",
     "text": [
      "F\n"
     ]
    }
   ],
   "source": [
    "# A school has following rules for grading system:\n",
    "# a. Below 25 - F\n",
    "# b. 25 to 45 - E\n",
    "# c. 45 to 50 - D\n",
    "# d. 50 to 60 - C\n",
    "# e. 60 to 80 - B\n",
    "# f. Above 80 - A\n",
    "# Ask user to enter marks and print the corresponding grade.\n",
    "\n",
    "marks = 0\n",
    "if marks>80:\n",
    "    print(\"A\")\n",
    "elif marks > 60 and marks <= 80:\n",
    "    print(\"B\")\n",
    "elif marks>50 and marks<=60:\n",
    "    print(\"C\")\n",
    "elif marks>45 and marks<=50:\n",
    "    print(\"D\")\n",
    "elif marks>25 and marks<=45:\n",
    "    print(\"E\")\n",
    "elif marks<25:\n",
    "    print(\"F\")\n",
    "# else:\n",
    "#     print(\"Invalid input\")\n",
    "    "
   ]
  },
  {
   "cell_type": "code",
   "execution_count": 38,
   "id": "19f7f877",
   "metadata": {},
   "outputs": [
    {
     "name": "stdout",
     "output_type": "stream",
     "text": [
      "enter the age of first person23\n",
      "enter the age of second person34\n",
      "enter the age of third person90\n",
      "c is oldest\n",
      "a is youngest\n"
     ]
    }
   ],
   "source": [
    "a = int(input(\"enter the age of first person\"))\n",
    "b = int(input(\"enter the age of second person\"))\n",
    "c = int(input(\"enter the age of third person\"))\n",
    "if a>b and a>c:\n",
    "    print(\"a is oldest\")\n",
    "elif b>a and b>c:\n",
    "    print(\"b is oldest\")\n",
    "else :\n",
    "    print(\"c is oldest\")\n",
    "\n",
    "    \n",
    "    \n",
    "if a<b and a<c:\n",
    "    print(\"a is youngest\")\n",
    "elif b<a and b<c:\n",
    "    print(\"b is youngest\")\n",
    "else :\n",
    "    print(\"c is youngest\")"
   ]
  },
  {
   "cell_type": "code",
   "execution_count": 44,
   "id": "5e9db8c5",
   "metadata": {},
   "outputs": [
    {
     "name": "stdout",
     "output_type": "stream",
     "text": [
      "NA\n",
      "56.0 %\n"
     ]
    }
   ],
   "source": [
    "# A student will not be allowed to sit in exam\n",
    "# if his/her attendance is less than 75%.\n",
    "# Take following input from user\n",
    "# Number of classes held\n",
    "# Number of classes attended.\n",
    "# And print\n",
    "# percentage of class attended\n",
    "# Is student is allowed to sit in exam or not.\n",
    "\n",
    "num_of_class_held = 100\n",
    "attend_class = 56\n",
    "per = (attend_class*num_of_class_held)/100\n",
    "if per>75:\n",
    "    print(\"Allowed\")\n",
    "else:\n",
    "    print(\"NA\")\n",
    "    \n",
    "print(per,\"%\")\n"
   ]
  },
  {
   "cell_type": "code",
   "execution_count": null,
   "id": "d81a4a07",
   "metadata": {},
   "outputs": [],
   "source": []
  }
 ],
 "metadata": {
  "kernelspec": {
   "display_name": "Python 3 (ipykernel)",
   "language": "python",
   "name": "python3"
  },
  "language_info": {
   "codemirror_mode": {
    "name": "ipython",
    "version": 3
   },
   "file_extension": ".py",
   "mimetype": "text/x-python",
   "name": "python",
   "nbconvert_exporter": "python",
   "pygments_lexer": "ipython3",
   "version": "3.9.7"
  }
 },
 "nbformat": 4,
 "nbformat_minor": 5
}
