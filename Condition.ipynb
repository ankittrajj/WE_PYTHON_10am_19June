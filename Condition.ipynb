{
 "cells": [
  {
   "cell_type": "code",
   "execution_count": 1,
   "id": "3ae0c247",
   "metadata": {},
   "outputs": [
    {
     "name": "stdout",
     "output_type": "stream",
     "text": [
      "enter first number3\n",
      "entr the sec number9\n",
      "12\n"
     ]
    }
   ],
   "source": [
    "#wap to add two numbers with the help of user input!!\n",
    "# typecasting---- changing one data type to another.\n",
    "\n",
    "x =int(input(\"enter first number\"))\n",
    "y =int(input(\"entr the sec number\"))\n",
    "z = x+y\n",
    "print(z)\n"
   ]
  },
  {
   "cell_type": "code",
   "execution_count": 2,
   "id": "653b3e03",
   "metadata": {},
   "outputs": [
    {
     "name": "stdout",
     "output_type": "stream",
     "text": [
      "enter first number5\n",
      "entr the sec number9\n",
      "14\n"
     ]
    }
   ],
   "source": [
    "x =input(\"enter first number\")\n",
    "y =input(\"entr the sec number\")\n",
    "z = int(x)+int(y)\n",
    "print(z)"
   ]
  },
  {
   "cell_type": "code",
   "execution_count": 5,
   "id": "b5157fce",
   "metadata": {},
   "outputs": [
    {
     "name": "stdout",
     "output_type": "stream",
     "text": [
      "enter first number34\n",
      "entr the sec number6\n",
      "40.0\n"
     ]
    }
   ],
   "source": [
    "x =int(input(\"enter first number\"))\n",
    "y =float(input(\"entr the sec number\"))\n",
    "z = x+y\n",
    "print(z)"
   ]
  },
  {
   "cell_type": "code",
   "execution_count": 6,
   "id": "b075699d",
   "metadata": {},
   "outputs": [
    {
     "name": "stdout",
     "output_type": "stream",
     "text": [
      "enter first number4\n",
      "entr the sec number5\n"
     ]
    },
    {
     "ename": "TypeError",
     "evalue": "unsupported operand type(s) for +: 'int' and 'str'",
     "output_type": "error",
     "traceback": [
      "\u001b[1;31m---------------------------------------------------------------------------\u001b[0m",
      "\u001b[1;31mTypeError\u001b[0m                                 Traceback (most recent call last)",
      "\u001b[1;32m~\\AppData\\Local\\Temp/ipykernel_10288/3240998000.py\u001b[0m in \u001b[0;36m<module>\u001b[1;34m\u001b[0m\n\u001b[0;32m      1\u001b[0m \u001b[0mx\u001b[0m \u001b[1;33m=\u001b[0m\u001b[0mint\u001b[0m\u001b[1;33m(\u001b[0m\u001b[0minput\u001b[0m\u001b[1;33m(\u001b[0m\u001b[1;34m\"enter first number\"\u001b[0m\u001b[1;33m)\u001b[0m\u001b[1;33m)\u001b[0m\u001b[1;33m\u001b[0m\u001b[1;33m\u001b[0m\u001b[0m\n\u001b[0;32m      2\u001b[0m \u001b[0my\u001b[0m \u001b[1;33m=\u001b[0m\u001b[0minput\u001b[0m\u001b[1;33m(\u001b[0m\u001b[1;34m\"entr the sec number\"\u001b[0m\u001b[1;33m)\u001b[0m\u001b[1;33m\u001b[0m\u001b[1;33m\u001b[0m\u001b[0m\n\u001b[1;32m----> 3\u001b[1;33m \u001b[0mz\u001b[0m \u001b[1;33m=\u001b[0m \u001b[0mx\u001b[0m\u001b[1;33m+\u001b[0m\u001b[0my\u001b[0m\u001b[1;33m\u001b[0m\u001b[1;33m\u001b[0m\u001b[0m\n\u001b[0m\u001b[0;32m      4\u001b[0m \u001b[0mprint\u001b[0m\u001b[1;33m(\u001b[0m\u001b[0mz\u001b[0m\u001b[1;33m)\u001b[0m\u001b[1;33m\u001b[0m\u001b[1;33m\u001b[0m\u001b[0m\n",
      "\u001b[1;31mTypeError\u001b[0m: unsupported operand type(s) for +: 'int' and 'str'"
     ]
    }
   ],
   "source": [
    "x =int(input(\"enter first number\"))\n",
    "y =input(\"entr the sec number\")\n",
    "z = x+y\n",
    "print(z)"
   ]
  },
  {
   "cell_type": "code",
   "execution_count": 7,
   "id": "9c482127",
   "metadata": {},
   "outputs": [],
   "source": [
    "# int----> +,-(0-9)\n",
    "# string------>'ilyfqeudsvfkhbdvasfligasidbvas!@!@W%$^131242354345645y'\n",
    "# boolean-----> True / False.\n",
    "# float------> +-(0-9) plus decimal values."
   ]
  },
  {
   "cell_type": "markdown",
   "id": "a5658e4c",
   "metadata": {},
   "source": [
    "# Conditions"
   ]
  },
  {
   "cell_type": "code",
   "execution_count": 18,
   "id": "a2034419",
   "metadata": {},
   "outputs": [
    {
     "name": "stdout",
     "output_type": "stream",
     "text": [
      "Age batao bhai!!18\n",
      "Adult\n"
     ]
    }
   ],
   "source": [
    "# True / False\n",
    "# syntax---->  if condition:\n",
    "#     print the msg\n",
    "# else:\n",
    "#     print the msg\n",
    "\n",
    "\n",
    "\n",
    "age =int( input(\"Age batao bhai\"))\n",
    "\n",
    "if age>=18:\n",
    "    print(\"Adult\")\n",
    "else:\n",
    "    print(\"choti bacchi ho kya\")\n"
   ]
  },
  {
   "cell_type": "code",
   "execution_count": 20,
   "id": "4ccebd74",
   "metadata": {},
   "outputs": [
    {
     "name": "stdout",
     "output_type": "stream",
     "text": [
      "choti bacchi ho kya\n"
     ]
    }
   ],
   "source": [
    "age = 1\n",
    "\n",
    "if age>18:\n",
    "    print(\"Adult\")\n",
    "elif age == 18:\n",
    "    print(\"teenager\")\n",
    "else:\n",
    "    print(\"choti bacchi ho kya\")\n"
   ]
  },
  {
   "cell_type": "code",
   "execution_count": 22,
   "id": "196b9a7a",
   "metadata": {},
   "outputs": [
    {
     "name": "stdout",
     "output_type": "stream",
     "text": [
      "True\n"
     ]
    }
   ],
   "source": [
    "# ==----> equal to-----> compare the value\n",
    "a = 6\n",
    "b = 6\n",
    "c = a==b\n",
    "print(c)"
   ]
  },
  {
   "cell_type": "code",
   "execution_count": 24,
   "id": "5344ce37",
   "metadata": {},
   "outputs": [
    {
     "name": "stdout",
     "output_type": "stream",
     "text": [
      "True\n"
     ]
    }
   ],
   "source": [
    "# !=----> not equal to\n",
    "a = 6\n",
    "b = 60\n",
    "c = a!=b\n",
    "print(c)"
   ]
  },
  {
   "cell_type": "code",
   "execution_count": 33,
   "id": "52732a94",
   "metadata": {},
   "outputs": [
    {
     "name": "stdout",
     "output_type": "stream",
     "text": [
      "Number batao bhai!!67\n",
      "Odd number 67\n"
     ]
    }
   ],
   "source": [
    "#wap to find odd and even number.\n",
    "# even ----> 2 ----> 0\n",
    "# odd-----> 2-----> other than 0\n",
    "\n",
    "num = int(input(\"Number batao bhai!!\"))\n",
    "if num % 2 == 0:\n",
    "    print(\"Even\",num,\" number\")\n",
    "    print(num)\n",
    "else:\n",
    "    print('Odd number',num)"
   ]
  },
  {
   "cell_type": "code",
   "execution_count": 29,
   "id": "050ca464",
   "metadata": {},
   "outputs": [
    {
     "name": "stdout",
     "output_type": "stream",
     "text": [
      "Even number\n"
     ]
    }
   ],
   "source": [
    "num = 34\n",
    "if num % 2 != 0:\n",
    "    print(\"Odd number\")\n",
    "else:\n",
    "    print(\"Even number\")"
   ]
  },
  {
   "cell_type": "code",
   "execution_count": 35,
   "id": "27ee5787",
   "metadata": {},
   "outputs": [
    {
     "name": "stdout",
     "output_type": "stream",
     "text": [
      "Enter the number90\n",
      "Enter the number123\n",
      "B is max\n"
     ]
    }
   ],
   "source": [
    "# #wap to find max of two numbers.\n",
    "# 34,89\n",
    "a = int(input(\"Enter the number\"))\n",
    "b = int(input(\"Enter the number\"))\n",
    "if a>b:\n",
    "    print(\"A is max\")\n",
    "else:\n",
    "    print(\"B is max\")"
   ]
  },
  {
   "cell_type": "code",
   "execution_count": null,
   "id": "d4975863",
   "metadata": {},
   "outputs": [],
   "source": []
  }
 ],
 "metadata": {
  "kernelspec": {
   "display_name": "Python 3 (ipykernel)",
   "language": "python",
   "name": "python3"
  },
  "language_info": {
   "codemirror_mode": {
    "name": "ipython",
    "version": 3
   },
   "file_extension": ".py",
   "mimetype": "text/x-python",
   "name": "python",
   "nbconvert_exporter": "python",
   "pygments_lexer": "ipython3",
   "version": "3.9.7"
  }
 },
 "nbformat": 4,
 "nbformat_minor": 5
}
